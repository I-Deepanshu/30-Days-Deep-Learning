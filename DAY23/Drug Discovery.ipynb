{
 "cells": [
  {
   "cell_type": "code",
   "execution_count": null,
   "id": "885a4d3f-53c5-4dfb-a5ea-0dc6c7c7e5b5",
   "metadata": {},
   "outputs": [],
   "source": [
    "pip install tensorflow deepchem\n"
   ]
  },
  {
   "cell_type": "code",
   "execution_count": null,
   "id": "d1d429af-f973-40c6-8186-b08ec745e82f",
   "metadata": {},
   "outputs": [],
   "source": [
    "pip install rdkit"
   ]
  },
  {
   "cell_type": "code",
   "execution_count": null,
   "id": "0b52f2de-1421-43c9-9e61-e056a501eabf",
   "metadata": {},
   "outputs": [],
   "source": [
    "import deepchem as dc\n",
    "import tensorflow as tf\n",
    "from deepchem.models import GraphConvModel\n",
    "\n",
    "# Check TensorFlow version to ensure compatibility\n",
    "print(f\"TensorFlow Version: {tf.__version__}\")\n",
    "\n",
    "# Load dataset\n",
    "tasks, datasets, transformers = dc.molnet.load_tox21(featurizer='GraphConv')\n",
    "train_dataset, valid_dataset, test_dataset = datasets\n",
    "\n",
    "# Define the model (no manual modification of layers)\n",
    "model = GraphConvModel(\n",
    "    n_tasks=len(tasks),\n",
    "    mode='classification',\n",
    "    dropout=0.2,\n",
    "    batch_size=64\n",
    ")\n",
    "\n",
    "# Train the model\n",
    "print(\"Training the model...\")\n",
    "model.fit(train_dataset, nb_epoch=10)\n",
    "\n",
    "# Evaluate the model\n",
    "print(\"Evaluating the model...\")\n",
    "train_scores = model.evaluate(train_dataset, transformers, metrics=[dc.metrics.Metric(dc.metrics.roc_auc_score)])\n",
    "valid_scores = model.evaluate(valid_dataset, transformers, metrics=[dc.metrics.Metric(dc.metrics.roc_auc_score)])\n",
    "\n",
    "# Print the results\n",
    "print(\"Train ROC-AUC Score:\", train_scores['mean-roc_auc_score'])\n",
    "print(\"Validation ROC-AUC Score:\", valid_scores['mean-roc_auc_score'])\n",
    "\n",
    "# Predict on test data\n",
    "test_predictions = model.predict(test_dataset)\n",
    "print(\"Sample Test Predictions:\", test_predictions[:5])\n"
   ]
  },
  {
   "cell_type": "code",
   "execution_count": null,
   "id": "818b4837-2464-43ef-b8ac-6894924a8803",
   "metadata": {},
   "outputs": [],
   "source": []
  }
 ],
 "metadata": {
  "kernelspec": {
   "display_name": "Python 3 (ipykernel)",
   "language": "python",
   "name": "python3"
  },
  "language_info": {
   "codemirror_mode": {
    "name": "ipython",
    "version": 3
   },
   "file_extension": ".py",
   "mimetype": "text/x-python",
   "name": "python",
   "nbconvert_exporter": "python",
   "pygments_lexer": "ipython3",
   "version": "3.12.6"
  }
 },
 "nbformat": 4,
 "nbformat_minor": 5
}
