{
 "cells": [
  {
   "cell_type": "code",
   "execution_count": null,
   "id": "071ae7f2-d0db-4161-8e0e-9db5564328c2",
   "metadata": {},
   "outputs": [],
   "source": [
    "pip install pennylane"
   ]
  },
  {
   "cell_type": "code",
   "execution_count": 4,
   "id": "e3869220-5162-40ea-90ad-5048c622b4f6",
   "metadata": {},
   "outputs": [
    {
     "name": "stdout",
     "output_type": "stream",
     "text": [
      "Prepared State: [0.70710678+0.j 0.70710678+0.j 0.        +0.j 0.        +0.j]\n"
     ]
    }
   ],
   "source": [
    "import pennylane as qml\n",
    "import numpy as np\n",
    "\n",
    "# Define device with 2 wires\n",
    "dev = qml.device(\"default.qubit\", wires=2)\n",
    "\n",
    "# Define state vector (2 qubits -> 4 elements)\n",
    "state = [0.707, 0.707]  # Original state\n",
    "state = state + [0] * (4 - len(state))  # Pad with zeros\n",
    "state = np.array(state) / np.linalg.norm(state)  # Normalize\n",
    "\n",
    "# Quantum circuit\n",
    "@qml.qnode(dev)\n",
    "def circuit():\n",
    "    qml.StatePrep(state, wires=[0, 1])  # Prepare the quantum state\n",
    "    return qml.state()\n",
    "\n",
    "# Execute the circuit\n",
    "output = circuit()\n",
    "print(\"Prepared State:\", output)\n"
   ]
  },
  {
   "cell_type": "code",
   "execution_count": null,
   "id": "6762f9cb-7d4f-4a93-86e5-58255339f4e6",
   "metadata": {},
   "outputs": [],
   "source": []
  }
 ],
 "metadata": {
  "kernelspec": {
   "display_name": "Python 3 (ipykernel)",
   "language": "python",
   "name": "python3"
  },
  "language_info": {
   "codemirror_mode": {
    "name": "ipython",
    "version": 3
   },
   "file_extension": ".py",
   "mimetype": "text/x-python",
   "name": "python",
   "nbconvert_exporter": "python",
   "pygments_lexer": "ipython3",
   "version": "3.12.6"
  }
 },
 "nbformat": 4,
 "nbformat_minor": 5
}
